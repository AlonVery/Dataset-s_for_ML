{
  "nbformat": 4,
  "nbformat_minor": 0,
  "metadata": {
    "colab": {
      "provenance": [],
      "authorship_tag": "ABX9TyOpOWghU1QP8lWLclOArCB/",
      "include_colab_link": true
    },
    "kernelspec": {
      "name": "python3",
      "display_name": "Python 3"
    },
    "language_info": {
      "name": "python"
    }
  },
  "cells": [
    {
      "cell_type": "markdown",
      "metadata": {
        "id": "view-in-github",
        "colab_type": "text"
      },
      "source": [
        "<a href=\"https://colab.research.google.com/github/stepka123/basic-NL-SA/blob/main/MNIST_learn.ipynb\" target=\"_parent\"><img src=\"https://colab.research.google.com/assets/colab-badge.svg\" alt=\"Open In Colab\"/></a>"
      ]
    },
    {
      "cell_type": "markdown",
      "source": [
        "MNIST датасет. Определение рукописного ввода цифр. Полносвязная модель на 754 первого, 254 второго и 10 третьего(выходного) слоев\n"
      ],
      "metadata": {
        "id": "AEtylf-ctGcY"
      }
    },
    {
      "cell_type": "code",
      "execution_count": 67,
      "metadata": {
        "id": "BBSSnFSrtDLQ"
      },
      "outputs": [],
      "source": [
        "import matplotlib.pyplot as plt\n",
        "from tensorflow import keras\n",
        "from tensorflow.keras.layers import Dense\n",
        "from tensorflow.keras.layers import Flatten\n",
        "import numpy as np\n",
        "import scapy as sc\n",
        "from tensorflow.keras.datasets import mnist"
      ]
    },
    {
      "cell_type": "markdown",
      "source": [
        "показывает первые 25 цифр из первичного датасета"
      ],
      "metadata": {
        "id": "ckioIwDr2kwG"
      }
    },
    {
      "cell_type": "code",
      "source": [
        "#Загружаем датасет 60к изобрадений.\n",
        "#1-й вектор: х -изображение цифр обучающей выборки, у - вектор соответствия который проверяется на выходе т.к обучение с учителем\n",
        "#2-й вектор: х -изображение цифр тестовой выборки. у -тоже самое жля тестовой выборки\n",
        "(x_train, y_train), (x_test, y_test) = mnist.load_data()\n",
        "\n",
        "#стандартизация входных данных, для получение значения каждого пикселя от 0 до 1(отображение )\n",
        "x_train = x_train / 255\n",
        "x_test = x_test / 255\n",
        "\n",
        "plt.figure(figsize=(15, 10))\n",
        "for i in range(25):\n",
        "  plt.subplot(5,5, i+1)\n",
        "  plt.imshow(x_train[i], cmap=plt.cm.binary)\n",
        "\n",
        "plt.show()"
      ],
      "metadata": {
        "id": "LPVdZWOkuvh7"
      },
      "execution_count": null,
      "outputs": []
    },
    {
      "cell_type": "code",
      "source": [
        "#создается модель\n",
        "model = keras.Sequential([\n",
        "  Flatten(input_shape=(28, 28, 1)),#1 - байт = 1 пиксель в градации серого 28 - строк,28-столбцов это изображение\n",
        "  Dense(256, activation='relu'), #создается слой из 254(можно любое кол-во) нейронов и 28*28 входных точек скрытый слой\n",
        "\n",
        "  #создается выходной слой из 10 нейронов  т.к цифр всего 0-9 всего 10 каждому выходу свой номер, а активация будет давать й на выход\n",
        "  Dense(10, activation='softmax')\n",
        "])\n",
        "#кол-во параметров слоя(кол-во весов) = кол-во входных связей(предыдущих нейронов(предыдущего слоя)) * кол-во нейронов текущего слоя\n",
        "#т.е первый слой 28*28 - 754 + 1 биас\n",
        "# второй слой это 256 нейронов, т.е 754*256+1 - 200960 параметров(связей между первым и вторым слоем) так для третьего тоже\n",
        "\n",
        "print(model.summary())"
      ],
      "metadata": {
        "id": "cR2otmVy46WY"
      },
      "execution_count": null,
      "outputs": []
    },
    {
      "cell_type": "code",
      "source": [
        "#преобразуем выходные данные в вектора(наборы [1000000000] = это 0, т.к стоит в начале, от куда и начинается счет,\n",
        "#да примитивно, но что поделаешь, я бы взял 4 бита из двоичной системы и смотрел по ней) по 10 значений 0-9 в виде 0 и 1, где 1 будет означать цифру\n",
        "y_train_cat = keras.utils.to_categorical(y_train, 10)\n",
        "y_test_cat = keras.utils.to_categorical(y_test, 10)"
      ],
      "metadata": {
        "id": "ku2iZQu2At8I"
      },
      "execution_count": 61,
      "outputs": []
    },
    {
      "cell_type": "markdown",
      "source": [
        "Компиляция нс с оптимизатором и критерием категории кросс-энтропией"
      ],
      "metadata": {
        "id": "CdggyQnyCLml"
      }
    },
    {
      "cell_type": "code",
      "source": [
        "model.compile(optimizer='adam', loss='mean_squared_error', metrics=['accuracy'])\n",
        "#запуск процеса обучения ф-я fit\n",
        "model.fit(x_train, y_train_cat, batch_size=32, epochs=5, validation_split=0.2)\n",
        "#x_train - входное множество,\n",
        "#у_train_cat - требуемое выходное значение в виде 0 и 1,\n",
        "#batch_size - размер батча (после каждого 32-ой картинки корректируются веса)\n",
        "#epochs - эпохи обучения(круги),\n",
        "#validation_split=0.5 - делитобучающую выборку (train) на обучающую и проверочную. Т.е 0.5 - 50% картинок из обучающей"
      ],
      "metadata": {
        "colab": {
          "base_uri": "https://localhost:8080/"
        },
        "id": "OcXcZzRJCEen",
        "outputId": "2893263c-befd-4afa-917a-004486ce8fbb"
      },
      "execution_count": 75,
      "outputs": [
        {
          "output_type": "stream",
          "name": "stdout",
          "text": [
            "Epoch 1/5\n",
            "1500/1500 [==============================] - 10s 6ms/step - loss: 0.0018 - accuracy: 0.9890 - val_loss: 0.0039 - val_accuracy: 0.9758\n",
            "Epoch 2/5\n",
            "1500/1500 [==============================] - 9s 6ms/step - loss: 0.0014 - accuracy: 0.9912 - val_loss: 0.0038 - val_accuracy: 0.9760\n",
            "Epoch 3/5\n",
            "1500/1500 [==============================] - 9s 6ms/step - loss: 0.0013 - accuracy: 0.9922 - val_loss: 0.0041 - val_accuracy: 0.9735\n",
            "Epoch 4/5\n",
            "1500/1500 [==============================] - 10s 7ms/step - loss: 0.0011 - accuracy: 0.9938 - val_loss: 0.0038 - val_accuracy: 0.9764\n",
            "Epoch 5/5\n",
            "1500/1500 [==============================] - 9s 6ms/step - loss: 0.0011 - accuracy: 0.9933 - val_loss: 0.0034 - val_accuracy: 0.9787\n"
          ]
        },
        {
          "output_type": "execute_result",
          "data": {
            "text/plain": [
              "<keras.src.callbacks.History at 0x794a9d5d41c0>"
            ]
          },
          "metadata": {},
          "execution_count": 75
        }
      ]
    },
    {
      "cell_type": "code",
      "source": [
        "#запускаем обучение по тестовой метрике loss - критерий качества, accuracy - процент правильно распознанных изображений\n",
        "model.evaluate(x_test, y_test_cat)"
      ],
      "metadata": {
        "colab": {
          "base_uri": "https://localhost:8080/"
        },
        "id": "nGlJNlPfG2cT",
        "outputId": "02be7510-708d-4ca7-8a53-873903c96eef"
      },
      "execution_count": 77,
      "outputs": [
        {
          "output_type": "stream",
          "name": "stdout",
          "text": [
            "313/313 [==============================] - 1s 3ms/step - loss: 0.0035 - accuracy: 0.9782\n"
          ]
        },
        {
          "output_type": "execute_result",
          "data": {
            "text/plain": [
              "[0.003479443723335862, 0.9782000184059143]"
            ]
          },
          "metadata": {},
          "execution_count": 77
        }
      ]
    },
    {
      "cell_type": "markdown",
      "source": [
        "Теперь нс обучена и расспознает цифры с вероятностью успеха в 97.8%\n"
      ],
      "metadata": {
        "id": "NjIn1dEEHvsF"
      }
    },
    {
      "cell_type": "code",
      "source": [
        "n = 5\n",
        "\n",
        "x = np.expand_dims(x_test[n], axis=0)#axis - это добавляем в двумерную матрицу третье измерение, x_train[n]-двумерная матрица\n",
        "#т.к передаем несколько изображений нужно подавать в виде трехмерного тензора, каждым элементом тензора будет изображение index\n",
        "res = model.predict(x)\n",
        "print(res)\n",
        "print(f\"Цифра: {np.argmax(res)}\")\n",
        "\n",
        "plt.imshow(x_test[n], cmap=plt.cm.binary)\n",
        "plt.show()"
      ],
      "metadata": {
        "colab": {
          "base_uri": "https://localhost:8080/",
          "height": 503
        },
        "id": "XPeghI7qHoTC",
        "outputId": "7dfc459f-06cc-4caa-e0d3-ae1565adccc3"
      },
      "execution_count": 93,
      "outputs": [
        {
          "output_type": "stream",
          "name": "stdout",
          "text": [
            "1/1 [==============================] - 0s 73ms/step\n",
            "[[1.5009545e-09 9.9992824e-01 1.7615516e-08 3.0407910e-09 8.0741102e-06\n",
            "  3.5983232e-09 2.9657457e-11 6.2901243e-05 6.8773619e-07 1.0710354e-10]]\n",
            "Цифра: 1\n"
          ]
        },
        {
          "output_type": "display_data",
          "data": {
            "text/plain": [
              "<Figure size 640x480 with 1 Axes>"
            ],
            "image/png": "[encoded data removed]"
          },
          "metadata": {}
        }
      ]
    }
  ]
}