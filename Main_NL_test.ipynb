{
  "nbformat": 4,
  "nbformat_minor": 0,
  "metadata": {
    "colab": {
      "provenance": [],
      "authorship_tag": "ABX9TyOtANOryn3BabqQvqtSl0Li",
      "include_colab_link": true
    },
    "kernelspec": {
      "name": "python3",
      "display_name": "Python 3"
    },
    "language_info": {
      "name": "python"
    }
  },
  "cells": [
    {
      "cell_type": "markdown",
      "metadata": {
        "id": "view-in-github",
        "colab_type": "text"
      },
      "source": [
        "<a href=\"https://colab.research.google.com/github/stepka123/basic-NL-SA/blob/main/Main_NL_test.ipynb\" target=\"_parent\"><img src=\"https://colab.research.google.com/assets/colab-badge.svg\" alt=\"Open In Colab\"/></a>"
      ]
    },
    {
      "cell_type": "code",
      "source": [
        "import matplotlib.pyplot as plt\n",
        "from tensorflow import keras\n",
        "from tensorflow.keras.layers import Dense\n",
        "import numpy as np\n",
        "import scapy"
      ],
      "metadata": {
        "id": "NCIVsc7MfIXa"
      },
      "execution_count": 6,
      "outputs": []
    },
    {
      "cell_type": "markdown",
      "source": [
        "Перцептрон с двумя входами, обучающийся на основе OR-функции(мат-логика если есть 1 то будет 1 на выходе, если нет ни одной 1, то будет всегда 0). Веса и смещение с первого раза рандомно, потом обновляются в процессе обучения с помощью правила коррекции ошибки."
      ],
      "metadata": {
        "id": "sqZufOY0bIYM"
      }
    },
    {
      "cell_type": "code",
      "execution_count": null,
      "metadata": {
        "id": "yrOvmwQrJ18V"
      },
      "outputs": [],
      "source": [
        "import numpy as np\n",
        "\n",
        "class perceptron():\n",
        "  def __init__(self, input_size, learning_rate = 0.1):\n",
        "    self.weights = np.random.randn(input_size)\n",
        "    self.bias = np.random.randn()\n",
        "    self.learning_rate = learning_rate\n",
        "\n",
        "  def activate(self, x):\n",
        "    return 1 if x >= 0 else 0\n",
        "\n",
        "  def predict(self, inputs):\n",
        "    weihted_sum = np.dot(inputs, self.weights) + self.bias\n",
        "    return self.activate(weihted_sum)\n",
        "\n",
        "  def train(self, inputs, target):\n",
        "    prediction = self.predict(inputs)\n",
        "    err = target - prediction\n",
        "    self.weights += self.learning_rate * err * inputs\n",
        "    self.bias += self.learning_rate * err\n",
        "\n",
        "\n",
        "if __name__ == \"__main__\":\n",
        "    # Создаем перцептрон с двумя входами\n",
        "    Perceptron = perceptron(2)\n",
        "\n",
        "    # Обучающие данные\n",
        "    training_inputs = np.array([[0, 0], [0, 1], [1, 0], [1, 1]])\n",
        "    labels = np.array([])  # OR-функция\n",
        "\n",
        "    # Обучение перцептрона\n",
        "    for epoch in range(100):\n",
        "        for inputs, label in zip(training_inputs, labels):\n",
        "            Perceptron.train(inputs, label)\n",
        "\n",
        "    # Проверяем работу перцептрона\n",
        "    test_inputs = np.array([[0, 0], [0, 1], [1, 0], [1, 1]])\n",
        "    for inputs in test_inputs:\n",
        "        print(f\"Input: {inputs}, Predicted Output: {Perceptron.predict(inputs)}\")"
      ]
    },
    {
      "cell_type": "markdown",
      "source": [
        "Теперь задача на основе выше примера с тремя нейронами на входе:\n"
      ],
      "metadata": {
        "id": "ISpOTPHcOZj7"
      }
    },
    {
      "cell_type": "code",
      "source": [
        "import numpy as np\n",
        "\n",
        "class MultilayerPerceptron:\n",
        "    def __init__(self, input_size, hidden_size, output_size, learning_rate=0.1):\n",
        "        self.weights_input_hidden = np.random.randn(input_size, hidden_size)\n",
        "        self.bias_hidden = np.random.randn(hidden_size)\n",
        "        self.weights_hidden_output = np.random.randn(hidden_size, output_size)\n",
        "        self.bias_output = np.random.randn(output_size)\n",
        "        self.learning_rate = learning_rate\n",
        "\n",
        "    def activate(self, x):\n",
        "        return 1 / (1 + np.exp(-x))  # Сигмоидальная функция активации\n",
        "\n",
        "    def activate_derivative(self, x):\n",
        "        return x * (1 - x)  # Производная сигмоидальной функции активации\n",
        "\n",
        "    def forward(self, inputs):\n",
        "        # Прямое распространение входных данных через сеть\n",
        "        self.hidden_sum = np.dot(inputs, self.weights_input_hidden) + self.bias_hidden\n",
        "        self.hidden_output = self.activate(self.hidden_sum)\n",
        "        self.output_sum = np.dot(self.hidden_output, self.weights_hidden_output) + self.bias_output\n",
        "        self.output = self.activate(self.output_sum)\n",
        "        return self.output\n",
        "\n",
        "    def backward(self, inputs, target):\n",
        "        # Обратное распространение ошибки и коррекция весов\n",
        "        output_error = target - self.output\n",
        "        output_delta = output_error * self.activate_derivative(self.output)\n",
        "\n",
        "        hidden_error = np.dot(output_delta, self.weights_hidden_output.T)\n",
        "        hidden_delta = hidden_error * self.activate_derivative(self.hidden_output)\n",
        "\n",
        "        self.weights_hidden_output += self.learning_rate * np.dot(self.hidden_output.T, output_delta)\n",
        "        self.bias_output += self.learning_rate * np.sum(output_delta)\n",
        "        self.weights_input_hidden += self.learning_rate * np.dot(inputs.T, hidden_delta)\n",
        "        self.bias_hidden += self.learning_rate * np.sum(hidden_delta)\n",
        "\n",
        "# Пример использования\n",
        "if __name__ == \"__main__\":\n",
        "    # Создаем многослойный перцептрон\n",
        "    mlp = MultilayerPerceptron(input_size=3, hidden_size=3, output_size=1)\n",
        "\n",
        "    # Обучающие данные\n",
        "    training_inputs = np.array([[0, 0, 1], [0, 1, 1], [1, 0, 1], [1, 1, 1]])\n",
        "    labels = np.array([[0], [1], [1], [0]])  # Пример XOR-функции\n",
        "\n",
        "    # Обучение многослойного перцептрона\n",
        "    for epoch in range(10000):\n",
        "        for inputs, label in zip(training_inputs, labels):\n",
        "            mlp.forward(inputs.reshape(1, -1))\n",
        "            mlp.backward(inputs.reshape(1, -1), label.reshape(1, -1))\n",
        "\n",
        "    # Проверяем работу перцептрона\n",
        "    test_inputs = np.array([[0, 0, 1], [0, 1, 1], [1, 0, 1], [1, 1, 1], [1, 1, 0], [0, 1, 0]])\n",
        "    for inputs in test_inputs:\n",
        "        prediction = mlp.forward(inputs)\n",
        "        print(f\"Input: {inputs}, Predicted Output: {prediction}\")\n",
        "\n",
        "\n"
      ],
      "metadata": {
        "id": "qJAq7LweO4wz"
      },
      "execution_count": null,
      "outputs": []
    },
    {
      "cell_type": "markdown",
      "source": [
        "Делаем нейронку из 1 нейрона и 2 входов, один это число(для обучения определенное, а потом рандомное), два это биас(смещение).\n",
        "Задача вычислить из градусов цельсия фарингейты\n",
        "ф-ла:\n",
        "F = C * 1.8 + 32  /  выход линейный, т.е что зашло в ф-ю активации, то и вышло"
      ],
      "metadata": {
        "id": "gCre2xBvgk86"
      }
    },
    {
      "cell_type": "code",
      "source": [
        "# x - градус цельсия, f - данные на выходе для обучения на готовых данных для сравнения с входными\n",
        "#model -\n",
        "x_celci = np.array([-40, -10, 0, 8, 15])\n",
        "f_faring = np.array([-40, 14, 32, 46, 59])\n",
        "\"\"\"это на выходе проверяется \"\"\"\n",
        "\n",
        "model = keras.Sequential() #sequential - функция кераса которая вызывает последовательную нейроную сеть\n",
        "model.add(Dense(units=1, input_shape=(1, ), activation='linear'))\n",
        "model.compile(loss='mean_squared_error', optimizer=keras.optimizers.Adam(0.9)) #тут достаточно точно дает на 0.9, дальше увеличивается только начальное количество ошибок\n",
        "\n",
        "#ниже можно описывать алгоритм обучения\n",
        "history = model.fit(x_celci, f_faring, epochs=500, verbose=0)\n",
        "\n",
        "pred = np.arange(20)\n",
        "print(pred)\n",
        "print(model.predict(pred)) #это уже новые входные данные которые перошли через нейронку и вышли результатом\n",
        "\n",
        "plt.plot(history.history['loss'])\n",
        "plt.grid(True)\n",
        "plt.show"
      ],
      "metadata": {
        "id": "M1wbM-ydfE_7"
      },
      "execution_count": null,
      "outputs": []
    },
    {
      "cell_type": "markdown",
      "source": [
        "код сбора пакетов в реальном времени для будущего обучения на реальных данных"
      ],
      "metadata": {
        "id": "7rnsKClfwlJO"
      }
    },
    {
      "cell_type": "code",
      "source": [
        "from scapy.all import *\n",
        "\n",
        "def packet_callback(packet):\n",
        "    if IP in packet:\n",
        "        ip_src = packet[IP].src\n",
        "        ip_dst = packet[IP].dst\n",
        "        proto = packet[IP].proto\n",
        "        if TCP in packet:\n",
        "            sport = packet[TCP].sport\n",
        "            dport = packet[TCP].dport\n",
        "            flags = packet[TCP].sprintf('%flags%')\n",
        "            print(f\"0,tcp,{flags},{ip_src}:{sport}, {ip_dst}:{dport}\")\n",
        "        elif UDP in packet:\n",
        "            sport = packet[UDP].sport\n",
        "            dport = packet[UDP].dport\n",
        "            print(f\"0,udp,{ip_src}:{sport}, {ip_dst}:{dport}\")\n",
        "        elif ICMP in packet:\n",
        "            type = packet[ICMP].type\n",
        "            code = packet[ICMP].code\n",
        "            print(f\"0,icmp,{type},{code},{ip_src}:{sport}, {ip_dst}:{dport}\")\n",
        "        else:\n",
        "            print(\"0,other\")\n",
        "\n",
        "if __name__ == \"__main__\":\n",
        "    sniff(prn=packet_callback, store=10)"
      ],
      "metadata": {
        "id": "deoZpDWSwkqf",
        "colab": {
          "base_uri": "https://localhost:8080/"
        },
        "outputId": "beac899a-a11a-46a8-d0fa-f33ee6495741"
      },
      "execution_count": 52,
      "outputs": [
        {
          "output_type": "stream",
          "name": "stdout",
          "text": [
            "0,tcp,PA,172.28.0.12:8080, 172.28.0.1:34956\n",
            "0,tcp,A,172.28.0.1:34956, 172.28.0.12:8080\n",
            "0,tcp,PA,172.28.0.1:34956, 172.28.0.12:8080\n",
            "0,tcp,A,172.28.0.12:8080, 172.28.0.1:34956\n",
            "0,tcp,PA,172.28.0.12:8080, 172.28.0.1:34956\n",
            "0,tcp,A,172.28.0.1:34956, 172.28.0.12:8080\n",
            "0,tcp,PA,172.28.0.12:8080, 172.28.0.1:44886\n",
            "0,tcp,A,172.28.0.1:44886, 172.28.0.12:8080\n",
            "0,tcp,FA,172.28.0.1:44886, 172.28.0.12:8080\n",
            "0,tcp,FA,172.28.0.12:8080, 172.28.0.1:44886\n",
            "0,tcp,A,172.28.0.1:44886, 172.28.0.12:8080\n",
            "0,tcp,PA,172.28.0.12:8080, 172.28.0.1:53090\n",
            "0,tcp,A,172.28.0.1:53090, 172.28.0.12:8080\n",
            "0,tcp,FA,172.28.0.1:53090, 172.28.0.12:8080\n",
            "0,tcp,FA,172.28.0.12:8080, 172.28.0.1:53090\n",
            "0,tcp,A,172.28.0.1:53090, 172.28.0.12:8080\n",
            "0,tcp,PA,172.28.0.1:34956, 172.28.0.12:8080\n",
            "0,tcp,PA,172.28.0.1:34956, 172.28.0.12:8080\n",
            "0,tcp,A,172.28.0.12:8080, 172.28.0.1:34956\n",
            "0,tcp,PA,172.28.0.12:8080, 172.28.0.1:34956\n",
            "0,tcp,A,172.28.0.1:34956, 172.28.0.12:8080\n",
            "0,tcp,PA,172.28.0.1:34956, 172.28.0.12:8080\n",
            "0,tcp,A,172.28.0.12:8080, 172.28.0.1:34956\n",
            "0,tcp,PA,172.28.0.1:47772, 172.28.0.12:8080\n",
            "0,tcp,A,172.28.0.12:8080, 172.28.0.1:47772\n",
            "0,tcp,S,172.28.0.1:47786, 172.28.0.12:8080\n",
            "0,tcp,SA,172.28.0.12:8080, 172.28.0.1:47786\n",
            "0,tcp,A,172.28.0.1:47786, 172.28.0.12:8080\n",
            "0,tcp,PA,172.28.0.1:47786, 172.28.0.12:8080\n",
            "0,tcp,A,172.28.0.12:8080, 172.28.0.1:47786\n",
            "0,tcp,PA,172.28.0.1:47786, 172.28.0.12:8080\n",
            "0,tcp,A,172.28.0.12:8080, 172.28.0.1:47786\n",
            "0,tcp,PA,172.28.0.12:8080, 172.28.0.1:47786\n",
            "0,tcp,A,172.28.0.1:47786, 172.28.0.12:8080\n",
            "0,tcp,PA,172.28.0.12:8080, 172.28.0.1:34956\n",
            "0,tcp,A,172.28.0.1:34956, 172.28.0.12:8080\n",
            "0,tcp,PA,172.28.0.1:34956, 172.28.0.12:8080\n",
            "0,tcp,A,172.28.0.12:8080, 172.28.0.1:34956\n",
            "0,tcp,PA,172.28.0.1:34956, 172.28.0.12:8080\n",
            "0,tcp,A,172.28.0.12:8080, 172.28.0.1:34956\n",
            "0,tcp,PA,172.28.0.12:8080, 172.28.0.1:34956\n",
            "0,tcp,A,172.28.0.1:34956, 172.28.0.12:8080\n",
            "0,tcp,PA,172.28.0.1:34956, 172.28.0.12:8080\n",
            "0,tcp,PA,172.28.0.12:8080, 172.28.0.1:34956\n",
            "0,tcp,A,172.28.0.1:34956, 172.28.0.12:8080\n",
            "0,tcp,PA,172.28.0.1:34956, 172.28.0.12:8080\n",
            "0,tcp,A,172.28.0.12:8080, 172.28.0.1:34956\n",
            "0,tcp,PA,172.28.0.1:47786, 172.28.0.12:8080\n",
            "0,tcp,PA,172.28.0.1:47786, 172.28.0.12:8080\n",
            "0,tcp,A,172.28.0.12:8080, 172.28.0.1:47786\n",
            "0,tcp,PA,172.28.0.12:8080, 172.28.0.1:47786\n",
            "0,tcp,A,172.28.0.1:47786, 172.28.0.12:8080\n",
            "0,tcp,PA,172.28.0.12:8080, 172.28.0.1:34956\n",
            "0,tcp,A,172.28.0.1:34956, 172.28.0.12:8080\n",
            "0,tcp,S,172.28.0.1:47802, 172.28.0.12:8080\n",
            "0,tcp,SA,172.28.0.12:8080, 172.28.0.1:47802\n",
            "0,tcp,A,172.28.0.1:47802, 172.28.0.12:8080\n",
            "0,tcp,PA,172.28.0.1:34956, 172.28.0.12:8080\n",
            "0,tcp,A,172.28.0.12:8080, 172.28.0.1:34956\n",
            "0,tcp,PA,172.28.0.12:8080, 172.28.0.1:34956\n",
            "0,tcp,PA,172.28.0.12:8080, 172.28.0.1:47772\n",
            "0,tcp,A,172.28.0.1:47772, 172.28.0.12:8080\n",
            "0,tcp,FA,172.28.0.1:47772, 172.28.0.12:8080\n",
            "0,tcp,FA,172.28.0.12:8080, 172.28.0.1:47772\n",
            "0,tcp,A,172.28.0.1:47772, 172.28.0.12:8080\n",
            "0,tcp,FA,172.28.0.1:34956, 172.28.0.12:8080\n",
            "0,tcp,FA,172.28.0.12:8080, 172.28.0.1:34956\n",
            "0,tcp,A,172.28.0.1:34956, 172.28.0.12:8080\n",
            "0,tcp,PA,172.28.0.1:47802, 172.28.0.12:8080\n",
            "0,tcp,A,172.28.0.12:8080, 172.28.0.1:47802\n",
            "0,tcp,PA,172.28.0.12:8080, 172.28.0.1:47802\n",
            "0,tcp,A,172.28.0.1:47802, 172.28.0.12:8080\n",
            "0,tcp,PA,172.28.0.1:47802, 172.28.0.12:8080\n",
            "0,tcp,A,172.28.0.12:8080, 172.28.0.1:47802\n",
            "0,tcp,PA,172.28.0.1:47786, 172.28.0.12:8080\n",
            "0,tcp,PA,172.28.0.1:47786, 172.28.0.12:8080\n",
            "0,tcp,A,172.28.0.12:8080, 172.28.0.1:47786\n",
            "0,tcp,PA,172.28.0.12:8080, 172.28.0.1:47786\n",
            "0,tcp,A,172.28.0.1:47786, 172.28.0.12:8080\n",
            "0,tcp,PA,172.28.0.1:47786, 172.28.0.12:8080\n",
            "0,tcp,PA,172.28.0.12:8080, 172.28.0.1:47786\n",
            "0,tcp,A,172.28.0.1:47786, 172.28.0.12:8080\n",
            "0,tcp,PA,172.28.0.1:47786, 172.28.0.12:8080\n",
            "0,tcp,PA,172.28.0.1:47786, 172.28.0.12:8080\n",
            "0,tcp,A,172.28.0.12:8080, 172.28.0.1:47786\n",
            "0,tcp,PA,172.28.0.12:8080, 172.28.0.1:47786\n",
            "0,tcp,A,172.28.0.1:47786, 172.28.0.12:8080\n",
            "0,tcp,PA,172.28.0.1:47786, 172.28.0.12:8080\n",
            "0,tcp,PA,172.28.0.12:8080, 172.28.0.1:47786\n",
            "0,tcp,A,172.28.0.1:47786, 172.28.0.12:8080\n",
            "0,tcp,PA,172.28.0.1:47786, 172.28.0.12:8080\n",
            "0,tcp,PA,172.28.0.1:47786, 172.28.0.12:8080\n",
            "0,tcp,A,172.28.0.12:8080, 172.28.0.1:47786\n",
            "0,tcp,PA,172.28.0.12:8080, 172.28.0.1:47786\n",
            "0,tcp,A,172.28.0.1:47786, 172.28.0.12:8080\n",
            "0,tcp,PA,172.28.0.1:47786, 172.28.0.12:8080\n",
            "0,tcp,PA,172.28.0.12:8080, 172.28.0.1:47786\n",
            "0,tcp,A,172.28.0.1:47786, 172.28.0.12:8080\n",
            "0,tcp,PA,172.28.0.1:47786, 172.28.0.12:8080\n",
            "0,tcp,A,172.28.0.12:8080, 172.28.0.1:47786\n",
            "0,tcp,S,172.28.0.1:57770, 172.28.0.12:8080\n",
            "0,tcp,SA,172.28.0.12:8080, 172.28.0.1:57770\n",
            "0,tcp,A,172.28.0.1:57770, 172.28.0.12:8080\n",
            "0,tcp,PA,172.28.0.1:57770, 172.28.0.12:8080\n",
            "0,tcp,A,172.28.0.12:8080, 172.28.0.1:57770\n",
            "0,tcp,PA,172.28.0.12:8080, 172.28.0.1:57770\n",
            "0,tcp,A,172.28.0.1:57770, 172.28.0.12:8080\n",
            "0,tcp,PA,172.28.0.1:57770, 172.28.0.12:8080\n"
          ]
        }
      ]
    },
    {
      "cell_type": "markdown",
      "source": [
        "Код считает tcp udp icmp KSL-KDD\n"
      ],
      "metadata": {
        "id": "CwBF0yCyxUqO"
      }
    },
    {
      "cell_type": "code",
      "source": [
        "tcp = 0\n",
        "icmp = 0\n",
        "udp = 0\n",
        "elsedrop = 0\n",
        "\n",
        "# Открываем файл для чтения\n",
        "with open('KDDTest+.txt', 'r') as file:\n",
        "    # Читаем файл построчно\n",
        "    for line in file:\n",
        "        # Разделяем строку на отдельные элементы по запятой\n",
        "        elements = line.strip().split(',')\n",
        "        # Выводим каждый элемент строки на экран\n",
        "        for element in elements[:2:]:\n",
        "          if element == 'tcp':\n",
        "            tcp += 1\n",
        "          elif element == 'icmp':\n",
        "            icmp += 1\n",
        "          elif element == 'udp':\n",
        "            udp += 1\n",
        "          else:\n",
        "            elsedrop +=1\n",
        "\n",
        "print(\"TCP: \", tcp)\n",
        "print(\"ICMP: \", icmp)\n",
        "print(\"UDP: \", udp)\n",
        "print(\"Elsepackets: \", elsedrop)"
      ],
      "metadata": {
        "id": "-62da5qK_sG5",
        "colab": {
          "base_uri": "https://localhost:8080/"
        },
        "outputId": "5cf0a257-2e0d-47f7-ca8a-af16603e9bd5"
      },
      "execution_count": 25,
      "outputs": [
        {
          "output_type": "stream",
          "name": "stdout",
          "text": [
            "TCP:  11512\n",
            "ICMP:  668\n",
            "UDP:  1555\n",
            "Elsepackets:  13735\n"
          ]
        }
      ]
    },
    {
      "cell_type": "markdown",
      "source": [
        "Код считает полностью количество повторяющийхся элементов в датасете KSL-KDD\n"
      ],
      "metadata": {
        "id": "UqWzBSIYxLlJ"
      }
    },
    {
      "cell_type": "code",
      "source": [
        "# Создаем пустой словарь для хранения элементов и их количества в файле\n",
        "element_counts = {}\n",
        "\n",
        "# Открываем файл для чтения\n",
        "with open('KDDTest+.txt', 'r') as file:\n",
        "    # Читаем файл построчно\n",
        "    for line in file:\n",
        "        # Разделяем строку на отдельные элементы по запятой\n",
        "        elements = line.strip().split(',')\n",
        "        # Подсчитываем количество каждого элемента\n",
        "        for element in elements:\n",
        "            # Если элемент уже есть в словаре, увеличиваем его счетчик на 1\n",
        "            if element in element_counts:\n",
        "                element_counts[element] += 1\n",
        "            # Если элемента нет в словаре, добавляем его и устанавливаем счетчик в 1\n",
        "            else:\n",
        "                element_counts[element] = 1\n",
        "\n",
        "# Выводим элементы и их количество\n",
        "print(\"Элементы и их количество в файле:\")\n",
        "for element, count in element_counts.items():\n",
        "    print(f\"{element}: {count}\")"
      ],
      "metadata": {
        "id": "ofYGPp7UweQM"
      },
      "execution_count": null,
      "outputs": []
    },
    {
      "cell_type": "markdown",
      "source": [
        "Код который собирает базовые данные по каждому пакету в live режиме"
      ],
      "metadata": {
        "id": "qvAmb5w98EDZ"
      }
    },
    {
      "cell_type": "code",
      "source": [
        "from scapy.all import *\n",
        "\n",
        "total_traffic = 0\n",
        "\n",
        "def process_packet(packet):\n",
        "    global total_traffic\n",
        "    if IP in packet:\n",
        "        ip_src = packet[IP].src\n",
        "        ip_dst = packet[IP].dst\n",
        "        proto = packet[IP].proto\n",
        "\n",
        "        packet_size = len(packet)  # Получаем размер пакета\n",
        "\n",
        "        total_traffic += packet_size  # Увеличиваем общий объем трафика\n",
        "\n",
        "        if TCP in packet:\n",
        "            sport = packet[TCP].sport\n",
        "            dport = packet[TCP].dport\n",
        "            print(f\"TCP Packet: {ip_src}:{sport} --> {ip_dst}:{dport}, Protocol: {proto}, Size: {packet_size} bytes\")\n",
        "\n",
        "        elif UDP in packet:\n",
        "            sport = packet[UDP].sport\n",
        "            dport = packet[UDP].dport\n",
        "            print(f\"UDP Packet: {ip_src}:{sport} --> {ip_dst}:{dport}, Protocol: {proto}, Size: {packet_size} bytes\")\n",
        "\n",
        "        elif ICMP in packet:\n",
        "            print(f\"ICMP Packet: {ip_src} --> {ip_dst}, Protocol: {proto}, Size: {packet_size} bytes\")\n",
        "\n",
        "\n",
        "# Захватываем и обрабатываем сетевой трафик\n",
        "sniff(prn=process_packet, count=100)  # Захватываем 100 пакетов\n",
        "print(f\"Total Traffic: {total_traffic} bytes\")\n",
        "\n"
      ],
      "metadata": {
        "colab": {
          "base_uri": "https://localhost:8080/"
        },
        "id": "5DWiUaMjxZZ9",
        "outputId": "3ecc0013-2b9d-4bd6-a223-ad3d1fc7384c"
      },
      "execution_count": 46,
      "outputs": [
        {
          "output_type": "stream",
          "name": "stdout",
          "text": [
            "TCP Packet: 172.28.0.1:37414 --> 172.28.0.12:8080, Protocol: 6, Size: 787 bytes\n",
            "TCP Packet: 172.28.0.12:8080 --> 172.28.0.1:37414, Protocol: 6, Size: 66 bytes\n",
            "TCP Packet: 172.28.0.1:37414 --> 172.28.0.12:8080, Protocol: 6, Size: 69 bytes\n",
            "TCP Packet: 172.28.0.12:8080 --> 172.28.0.1:37414, Protocol: 6, Size: 66 bytes\n",
            "TCP Packet: 172.28.0.12:8080 --> 172.28.0.1:37880, Protocol: 6, Size: 296 bytes\n",
            "TCP Packet: 172.28.0.1:37880 --> 172.28.0.12:8080, Protocol: 6, Size: 66 bytes\n",
            "TCP Packet: 172.28.0.12:8080 --> 172.28.0.1:37414, Protocol: 6, Size: 351 bytes\n",
            "TCP Packet: 172.28.0.1:37414 --> 172.28.0.12:8080, Protocol: 6, Size: 66 bytes\n",
            "TCP Packet: 172.28.0.1:37414 --> 172.28.0.12:8080, Protocol: 6, Size: 66 bytes\n",
            "TCP Packet: 172.28.0.12:8080 --> 172.28.0.1:37414, Protocol: 6, Size: 66 bytes\n",
            "TCP Packet: 172.28.0.1:37414 --> 172.28.0.12:8080, Protocol: 6, Size: 66 bytes\n",
            "TCP Packet: 172.28.0.1:37880 --> 172.28.0.12:8080, Protocol: 6, Size: 684 bytes\n",
            "TCP Packet: 172.28.0.12:8080 --> 172.28.0.1:37880, Protocol: 6, Size: 66 bytes\n",
            "TCP Packet: 172.28.0.12:8080 --> 172.28.0.1:37880, Protocol: 6, Size: 1100 bytes\n",
            "TCP Packet: 172.28.0.1:37880 --> 172.28.0.12:8080, Protocol: 6, Size: 66 bytes\n",
            "TCP Packet: 172.28.0.12:8080 --> 172.28.0.1:47954, Protocol: 6, Size: 1253 bytes\n",
            "TCP Packet: 172.28.0.1:47954 --> 172.28.0.12:8080, Protocol: 6, Size: 66 bytes\n",
            "TCP Packet: 172.28.0.1:47954 --> 172.28.0.12:8080, Protocol: 6, Size: 66 bytes\n",
            "TCP Packet: 172.28.0.12:8080 --> 172.28.0.1:47954, Protocol: 6, Size: 66 bytes\n",
            "TCP Packet: 172.28.0.1:47954 --> 172.28.0.12:8080, Protocol: 6, Size: 66 bytes\n",
            "TCP Packet: 172.28.0.1:37880 --> 172.28.0.12:8080, Protocol: 6, Size: 684 bytes\n",
            "TCP Packet: 172.28.0.12:8080 --> 172.28.0.1:37880, Protocol: 6, Size: 66 bytes\n",
            "TCP Packet: 172.28.0.1:37896 --> 172.28.0.12:8080, Protocol: 6, Size: 789 bytes\n",
            "TCP Packet: 172.28.0.1:37896 --> 172.28.0.12:8080, Protocol: 6, Size: 291 bytes\n",
            "TCP Packet: 172.28.0.12:8080 --> 172.28.0.1:37896, Protocol: 6, Size: 66 bytes\n",
            "TCP Packet: 172.28.0.12:8080 --> 172.28.0.1:37896, Protocol: 6, Size: 351 bytes\n",
            "TCP Packet: 172.28.0.1:37896 --> 172.28.0.12:8080, Protocol: 6, Size: 66 bytes\n",
            "TCP Packet: 172.28.0.12:8080 --> 172.28.0.1:37880, Protocol: 6, Size: 1014 bytes\n",
            "TCP Packet: 172.28.0.1:37880 --> 172.28.0.12:8080, Protocol: 6, Size: 66 bytes\n",
            "TCP Packet: 172.28.0.1:37880 --> 172.28.0.12:8080, Protocol: 6, Size: 684 bytes\n",
            "TCP Packet: 172.28.0.12:8080 --> 172.28.0.1:37880, Protocol: 6, Size: 66 bytes\n",
            "TCP Packet: 172.28.0.1:37896 --> 172.28.0.12:8080, Protocol: 6, Size: 684 bytes\n",
            "TCP Packet: 172.28.0.12:8080 --> 172.28.0.1:37896, Protocol: 6, Size: 840 bytes\n",
            "TCP Packet: 172.28.0.1:37896 --> 172.28.0.12:8080, Protocol: 6, Size: 66 bytes\n",
            "TCP Packet: 172.28.0.1:37896 --> 172.28.0.12:8080, Protocol: 6, Size: 788 bytes\n",
            "TCP Packet: 172.28.0.1:37896 --> 172.28.0.12:8080, Protocol: 6, Size: 121 bytes\n",
            "TCP Packet: 172.28.0.12:8080 --> 172.28.0.1:37896, Protocol: 6, Size: 66 bytes\n",
            "TCP Packet: 172.28.0.12:8080 --> 172.28.0.1:37896, Protocol: 6, Size: 351 bytes\n",
            "TCP Packet: 172.28.0.1:37896 --> 172.28.0.12:8080, Protocol: 6, Size: 66 bytes\n",
            "TCP Packet: 172.28.0.1:37896 --> 172.28.0.12:8080, Protocol: 6, Size: 684 bytes\n",
            "TCP Packet: 172.28.0.12:8080 --> 172.28.0.1:37896, Protocol: 6, Size: 392 bytes\n",
            "TCP Packet: 172.28.0.1:37896 --> 172.28.0.12:8080, Protocol: 6, Size: 66 bytes\n",
            "TCP Packet: 172.28.0.1:37896 --> 172.28.0.12:8080, Protocol: 6, Size: 789 bytes\n",
            "TCP Packet: 172.28.0.1:37896 --> 172.28.0.12:8080, Protocol: 6, Size: 193 bytes\n",
            "TCP Packet: 172.28.0.12:8080 --> 172.28.0.1:37896, Protocol: 6, Size: 66 bytes\n",
            "TCP Packet: 172.28.0.12:8080 --> 172.28.0.1:37896, Protocol: 6, Size: 351 bytes\n",
            "TCP Packet: 172.28.0.1:37896 --> 172.28.0.12:8080, Protocol: 6, Size: 66 bytes\n",
            "TCP Packet: 172.28.0.1:37896 --> 172.28.0.12:8080, Protocol: 6, Size: 684 bytes\n",
            "TCP Packet: 172.28.0.12:8080 --> 172.28.0.1:37896, Protocol: 6, Size: 821 bytes\n",
            "TCP Packet: 172.28.0.1:37896 --> 172.28.0.12:8080, Protocol: 6, Size: 66 bytes\n",
            "TCP Packet: 172.28.0.1:37896 --> 172.28.0.12:8080, Protocol: 6, Size: 788 bytes\n",
            "TCP Packet: 172.28.0.1:37896 --> 172.28.0.12:8080, Protocol: 6, Size: 140 bytes\n",
            "TCP Packet: 172.28.0.12:8080 --> 172.28.0.1:37896, Protocol: 6, Size: 66 bytes\n",
            "TCP Packet: 172.28.0.12:8080 --> 172.28.0.1:37896, Protocol: 6, Size: 351 bytes\n",
            "TCP Packet: 172.28.0.1:37896 --> 172.28.0.12:8080, Protocol: 6, Size: 66 bytes\n",
            "TCP Packet: 172.28.0.1:37896 --> 172.28.0.12:8080, Protocol: 6, Size: 684 bytes\n",
            "TCP Packet: 172.28.0.12:8080 --> 172.28.0.1:37880, Protocol: 6, Size: 789 bytes\n",
            "TCP Packet: 172.28.0.1:37880 --> 172.28.0.12:8080, Protocol: 6, Size: 66 bytes\n",
            "TCP Packet: 172.28.0.12:8080 --> 172.28.0.1:37896, Protocol: 6, Size: 66 bytes\n",
            "TCP Packet: 172.28.0.1:37880 --> 172.28.0.12:8080, Protocol: 6, Size: 789 bytes\n",
            "TCP Packet: 172.28.0.12:8080 --> 172.28.0.1:37880, Protocol: 6, Size: 66 bytes\n",
            "TCP Packet: 172.28.0.1:37880 --> 172.28.0.12:8080, Protocol: 6, Size: 390 bytes\n",
            "TCP Packet: 172.28.0.12:8080 --> 172.28.0.1:37880, Protocol: 6, Size: 66 bytes\n",
            "TCP Packet: 172.28.0.12:8080 --> 172.28.0.1:37880, Protocol: 6, Size: 351 bytes\n",
            "TCP Packet: 172.28.0.1:37880 --> 172.28.0.12:8080, Protocol: 6, Size: 66 bytes\n",
            "TCP Packet: 172.28.0.12:8080 --> 172.28.0.1:37896, Protocol: 6, Size: 390 bytes\n",
            "TCP Packet: 172.28.0.1:37896 --> 172.28.0.12:8080, Protocol: 6, Size: 66 bytes\n",
            "TCP Packet: 172.28.0.1:37880 --> 172.28.0.12:8080, Protocol: 6, Size: 684 bytes\n",
            "TCP Packet: 172.28.0.12:8080 --> 172.28.0.1:37880, Protocol: 6, Size: 831 bytes\n",
            "TCP Packet: 172.28.0.1:37880 --> 172.28.0.12:8080, Protocol: 6, Size: 66 bytes\n",
            "TCP Packet: 172.28.0.1:37880 --> 172.28.0.12:8080, Protocol: 6, Size: 788 bytes\n",
            "TCP Packet: 172.28.0.1:37880 --> 172.28.0.12:8080, Protocol: 6, Size: 121 bytes\n",
            "TCP Packet: 172.28.0.12:8080 --> 172.28.0.1:37880, Protocol: 6, Size: 66 bytes\n",
            "TCP Packet: 172.28.0.12:8080 --> 172.28.0.1:37880, Protocol: 6, Size: 351 bytes\n",
            "TCP Packet: 172.28.0.1:37880 --> 172.28.0.12:8080, Protocol: 6, Size: 66 bytes\n",
            "TCP Packet: 172.28.0.1:37880 --> 172.28.0.12:8080, Protocol: 6, Size: 684 bytes\n",
            "TCP Packet: 172.28.0.1:37896 --> 172.28.0.12:8080, Protocol: 6, Size: 684 bytes\n",
            "TCP Packet: 172.28.0.12:8080 --> 172.28.0.1:37896, Protocol: 6, Size: 66 bytes\n",
            "TCP Packet: 172.28.0.12:8080 --> 172.28.0.1:37880, Protocol: 6, Size: 66 bytes\n",
            "TCP Packet: 172.28.0.1:37908 --> 172.28.0.12:8080, Protocol: 6, Size: 74 bytes\n",
            "TCP Packet: 172.28.0.12:8080 --> 172.28.0.1:37908, Protocol: 6, Size: 74 bytes\n",
            "TCP Packet: 172.28.0.1:37908 --> 172.28.0.12:8080, Protocol: 6, Size: 66 bytes\n",
            "TCP Packet: 172.28.0.1:37908 --> 172.28.0.12:8080, Protocol: 6, Size: 684 bytes\n",
            "TCP Packet: 172.28.0.12:8080 --> 172.28.0.1:37908, Protocol: 6, Size: 66 bytes\n",
            "TCP Packet: 172.28.0.12:8080 --> 172.28.0.1:37908, Protocol: 6, Size: 750 bytes\n",
            "TCP Packet: 172.28.0.1:37908 --> 172.28.0.12:8080, Protocol: 6, Size: 66 bytes\n",
            "TCP Packet: 172.28.0.1:37908 --> 172.28.0.12:8080, Protocol: 6, Size: 789 bytes\n",
            "TCP Packet: 172.28.0.1:37908 --> 172.28.0.12:8080, Protocol: 6, Size: 171 bytes\n",
            "TCP Packet: 172.28.0.12:8080 --> 172.28.0.1:37908, Protocol: 6, Size: 66 bytes\n",
            "TCP Packet: 172.28.0.12:8080 --> 172.28.0.1:37908, Protocol: 6, Size: 351 bytes\n",
            "TCP Packet: 172.28.0.1:37908 --> 172.28.0.12:8080, Protocol: 6, Size: 66 bytes\n",
            "TCP Packet: 172.28.0.1:37908 --> 172.28.0.12:8080, Protocol: 6, Size: 684 bytes\n",
            "TCP Packet: 172.28.0.12:8080 --> 172.28.0.1:37908, Protocol: 6, Size: 815 bytes\n",
            "TCP Packet: 172.28.0.1:37908 --> 172.28.0.12:8080, Protocol: 6, Size: 66 bytes\n",
            "TCP Packet: 172.28.0.1:37908 --> 172.28.0.12:8080, Protocol: 6, Size: 630 bytes\n",
            "TCP Packet: 172.28.0.12:8080 --> 172.28.0.1:37908, Protocol: 6, Size: 459 bytes\n",
            "TCP Packet: 172.28.0.1:37908 --> 172.28.0.12:8080, Protocol: 6, Size: 66 bytes\n",
            "TCP Packet: 172.28.0.1:37908 --> 172.28.0.12:8080, Protocol: 6, Size: 66 bytes\n",
            "TCP Packet: 172.28.0.12:8080 --> 172.28.0.1:37908, Protocol: 6, Size: 66 bytes\n",
            "TCP Packet: 172.28.0.1:37908 --> 172.28.0.12:8080, Protocol: 6, Size: 66 bytes\n",
            "Total Traffic: 32515 bytes\n"
          ]
        }
      ]
    }
  ]
}