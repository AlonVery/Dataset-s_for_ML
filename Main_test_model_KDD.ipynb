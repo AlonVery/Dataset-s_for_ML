{
  "nbformat": 4,
  "nbformat_minor": 0,
  "metadata": {
    "colab": {
      "provenance": [],
      "toc_visible": true,
      "authorship_tag": "ABX9TyPt4A0R3V2YQrhf1e1xFvbh",
      "include_colab_link": true
    },
    "kernelspec": {
      "name": "python3",
      "display_name": "Python 3"
    },
    "language_info": {
      "name": "python"
    }
  },
  "cells": [
    {
      "cell_type": "markdown",
      "metadata": {
        "id": "view-in-github",
        "colab_type": "text"
      },
      "source": [
        "<a href=\"https://colab.research.google.com/github/stepka123/basic-NL-SA/blob/main/Main_test_model_KDD.ipynb\" target=\"_parent\"><img src=\"https://colab.research.google.com/assets/colab-badge.svg\" alt=\"Open In Colab\"/></a>"
      ]
    },
    {
      "cell_type": "markdown",
      "source": [
        "\n",
        "\n",
        "---\n",
        "\n",
        "\n",
        "**Этапы тестовой разработки Tpaqp-SOS:**\n",
        "\n",
        "  1. Датасет;\n",
        "  2. Стандартизация данных датасета;\n",
        "  3. Архитектурная модель;\n",
        "  4. Преобразование данных датасета в вектора;\n",
        "  5. Компиляция с оптимизатором и критерием категории выполнения работы;\n",
        "  6. Модель обучения;\n",
        "  7. Тестирование;\n",
        "  8. Доработка, исправление ошбок;\n",
        "  9. Если хорошо работает, собрать датасет с реальным трафиком похожим на синтетический;\n",
        "  10. Датасет реального трафика;\n",
        "  11. Если не обходимо, до работать параметры обучения;\n",
        "\n",
        "\n",
        "---\n",
        "\\:\\\n",
        "\n",
        "\n",
        "\n",
        "---\n",
        "\n",
        "\n",
        "                Вопросы, которые задаются при окончании разработки:\n",
        "\n",
        "      1.  Корректно ли выполняется задача?\n",
        "      2.  Все ли про тестированно?\n",
        "      3.  Корректно ли расспознает данные датасета или реального трафика?\n",
        "      4.  Все ли о пробованны возможные варианты моделей архитектур?\n",
        "      5.  Все ли о пробованны возможные варианты моделей обучения?\n",
        "      6.  Все ли основные пункты построения соблюдены?\n",
        "\n",
        "\n",
        "---\n",
        "\n",
        "\n",
        "\n",
        "Если нет, возвращаемся на 1 пункт этапов разработки и перестраиваем систему заного.\n",
        "\n",
        "\n",
        "---\n",
        "\n"
      ],
      "metadata": {
        "id": "ckF17sn8iDC4"
      }
    },
    {
      "cell_type": "markdown",
      "source": [
        "# Этап 1: Загрузка и оценка датасета"
      ],
      "metadata": {
        "id": "axA3JBDcobRG"
      }
    },
    {
      "cell_type": "code",
      "execution_count": null,
      "metadata": {
        "id": "oY_sciSwXiNn"
      },
      "outputs": [],
      "source": []
    },
    {
      "cell_type": "markdown",
      "source": [
        "# Этап 2: Стандартизация датасета"
      ],
      "metadata": {
        "id": "Xpv0Pc5wqcAU"
      }
    },
    {
      "cell_type": "code",
      "source": [],
      "metadata": {
        "id": "Y6zAiTHuqiVk"
      },
      "execution_count": null,
      "outputs": []
    },
    {
      "cell_type": "markdown",
      "source": [
        "# Этап 3: Архитектура модели"
      ],
      "metadata": {
        "id": "4cEcJMCHqjFU"
      }
    },
    {
      "cell_type": "code",
      "source": [],
      "metadata": {
        "id": "siixR7LGqoeK"
      },
      "execution_count": null,
      "outputs": []
    },
    {
      "cell_type": "markdown",
      "source": [
        "## Этап 4: Преобразование данных датасета"
      ],
      "metadata": {
        "id": "6qYXD6O3qpBs"
      }
    },
    {
      "cell_type": "code",
      "source": [],
      "metadata": {
        "id": "zZSBk4DDqwe8"
      },
      "execution_count": null,
      "outputs": []
    },
    {
      "cell_type": "markdown",
      "source": [
        "# Этап 5: Компиляция с оптимизатором и критерием категории выполнения работы"
      ],
      "metadata": {
        "id": "XDIZuXhZqphp"
      }
    },
    {
      "cell_type": "code",
      "source": [],
      "metadata": {
        "id": "TEeLnClrq25h"
      },
      "execution_count": null,
      "outputs": []
    },
    {
      "cell_type": "markdown",
      "source": [
        "# Этап 6: Модель обучения"
      ],
      "metadata": {
        "id": "1s9qpe02qp9B"
      }
    },
    {
      "cell_type": "code",
      "source": [],
      "metadata": {
        "id": "2i9j0YETq7or"
      },
      "execution_count": null,
      "outputs": []
    },
    {
      "cell_type": "markdown",
      "source": [
        "# Этап 7: Тестирование и компилирование НС"
      ],
      "metadata": {
        "id": "jwLbiPPwrILi"
      }
    },
    {
      "cell_type": "code",
      "source": [],
      "metadata": {
        "id": "RTbpq0XtrPnS"
      },
      "execution_count": null,
      "outputs": []
    }
  ]
}