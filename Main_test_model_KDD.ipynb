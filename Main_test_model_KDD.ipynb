{
  "nbformat": 4,
  "nbformat_minor": 0,
  "metadata": {
    "colab": {
      "provenance": [],
      "authorship_tag": "ABX9TyOG3uc+kg8UKc6nquBFXffS",
      "include_colab_link": true
    },
    "kernelspec": {
      "name": "python3",
      "display_name": "Python 3"
    },
    "language_info": {
      "name": "python"
    }
  },
  "cells": [
    {
      "cell_type": "markdown",
      "metadata": {
        "id": "view-in-github",
        "colab_type": "text"
      },
      "source": [
        "<a href=\"https://colab.research.google.com/github/stepka123/basic-NL-SA/blob/main/Main_test_model_KDD.ipynb\" target=\"_parent\"><img src=\"https://colab.research.google.com/assets/colab-badge.svg\" alt=\"Open In Colab\"/></a>"
      ]
    },
    {
      "cell_type": "markdown",
      "source": [
        "\n",
        "\n",
        "---\n",
        "\n",
        "\n",
        "**Этапы тестовой разработки Tpaqp-SOS:**\n",
        "\n",
        "  1. Датасет;\n",
        "  2. Стандартизация данных датасета;\n",
        "  3. Архитектурная модель;\n",
        "  4. Преобразование данных датасета в вектора;\n",
        "  5. Компиляция с оптимизатором и критерием категории выполнения работы;\n",
        "  6. Модель обучения;\n",
        "  7. Тестирование;\n",
        "  8. Доработка, исправление ошбок;\n",
        "  9. Если хорошо работает, собрать датасет с реальным трафиком похожим на синтетический;\n",
        "  10. Датасет реального трафика;\n",
        "  11. Если не обходимо, до работать параметры обучения;\n",
        "\n",
        "\n",
        "---\n",
        "\\:\\\n",
        "\n",
        "\n",
        "\n",
        "---\n",
        "\n",
        "\n",
        "                Вопросы, которые задаются при окончании разработки:\n",
        "\n",
        "      1.  Корректно ли выполняется задача?\n",
        "      2.  Все ли про тестированно?\n",
        "      3.  Корректно ли расспознает данные датасета или реального трафика?\n",
        "      4.  Все ли о пробованны возможные варианты моделей архитектур?\n",
        "      5.  Все ли о пробованны возможные варианты моделей обучения?\n",
        "      6.  Все ли основные пункты построения соблюдены?\n",
        "\n",
        "\n",
        "---\n",
        "\n",
        "\n",
        "\n",
        "Если нет, возвращаемся на 1 пункт этапов разработки и перестраиваем систему заного.\n",
        "\n",
        "\n",
        "---\n",
        "\n"
      ],
      "metadata": {
        "id": "ckF17sn8iDC4"
      }
    },
    {
      "cell_type": "markdown",
      "source": [
        "# Этап 1: Загрузка и оценка датасета"
      ],
      "metadata": {
        "id": "axA3JBDcobRG"
      }
    },
    {
      "cell_type": "code",
      "execution_count": null,
      "metadata": {
        "id": "oY_sciSwXiNn"
      },
      "outputs": [],
      "source": []
    }
  ]
}