{
  "nbformat": 4,
  "nbformat_minor": 0,
  "metadata": {
    "colab": {
      "provenance": [],
      "authorship_tag": "ABX9TyOiAlQQcs1G+OjYF+WGL40u",
      "include_colab_link": true
    },
    "kernelspec": {
      "name": "python3",
      "display_name": "Python 3"
    },
    "language_info": {
      "name": "python"
    }
  },
  "cells": [
    {
      "cell_type": "markdown",
      "metadata": {
        "id": "view-in-github",
        "colab_type": "text"
      },
      "source": [
        "<a href=\"https://colab.research.google.com/github/stepka123/basic-NL-SA/blob/main/main_NL_test.ipynb\" target=\"_parent\"><img src=\"https://colab.research.google.com/assets/colab-badge.svg\" alt=\"Open In Colab\"/></a>"
      ]
    },
    {
      "cell_type": "code",
      "source": [
        "import matplotlib.pyplot as plt\n",
        "from tensorflow import keras\n",
        "from tensorflow.keras.layers import Dense\n",
        "import numpy as np"
      ],
      "metadata": {
        "id": "NCIVsc7MfIXa"
      },
      "execution_count": 2,
      "outputs": []
    },
    {
      "cell_type": "markdown",
      "source": [
        "Перцептрон с двумя входами, обучающийся на основе OR-функции(мат-логика если есть 1 то будет 1 на выходе, если нет ни одной 1, то будет всегда 0). Веса и смещение с первого раза рандомно, потом обновляются в процессе обучения с помощью правила коррекции ошибки."
      ],
      "metadata": {
        "id": "sqZufOY0bIYM"
      }
    },
    {
      "cell_type": "code",
      "execution_count": null,
      "metadata": {
        "id": "yrOvmwQrJ18V",
        "colab": {
          "base_uri": "https://localhost:8080/"
        },
        "outputId": "b1d16024-2203-4ac7-d915-a960a14a6464"
      },
      "outputs": [
        {
          "output_type": "stream",
          "name": "stdout",
          "text": [
            "Input: [0 0], Predicted Output: 0\n",
            "Input: [0 1], Predicted Output: 1\n",
            "Input: [1 0], Predicted Output: 0\n",
            "Input: [1 1], Predicted Output: 0\n"
          ]
        }
      ],
      "source": [
        "import numpy as np\n",
        "\n",
        "class perceptron():\n",
        "  def __init__(self, input_size, learning_rate = 0.1):\n",
        "    self.weights = np.random.randn(input_size)\n",
        "    self.bias = np.random.randn()\n",
        "    self.learning_rate = learning_rate\n",
        "\n",
        "  def activate(self, x):\n",
        "    return 1 if x >= 0 else 0\n",
        "\n",
        "  def predict(self, inputs):\n",
        "    weihted_sum = np.dot(inputs, self.weights) + self.bias\n",
        "    return self.activate(weihted_sum)\n",
        "\n",
        "  def train(self, inputs, target):\n",
        "    prediction = self.predict(inputs)\n",
        "    err = target - prediction\n",
        "    self.weights += self.learning_rate * err * inputs\n",
        "    self.bias += self.learning_rate * err\n",
        "\n",
        "\n",
        "if __name__ == \"__main__\":\n",
        "    # Создаем перцептрон с двумя входами\n",
        "    Perceptron = perceptron(2)\n",
        "\n",
        "    # Обучающие данные\n",
        "    training_inputs = np.array([[0, 0], [0, 1], [1, 0], [1, 1]])\n",
        "    labels = np.array([])  # OR-функция\n",
        "\n",
        "    # Обучение перцептрона\n",
        "    for epoch in range(100):\n",
        "        for inputs, label in zip(training_inputs, labels):\n",
        "            Perceptron.train(inputs, label)\n",
        "\n",
        "    # Проверяем работу перцептрона\n",
        "    test_inputs = np.array([[0, 0], [0, 1], [1, 0], [1, 1]])\n",
        "    for inputs in test_inputs:\n",
        "        print(f\"Input: {inputs}, Predicted Output: {Perceptron.predict(inputs)}\")"
      ]
    },
    {
      "cell_type": "markdown",
      "source": [
        "Теперь задача на основе выше примера:\n"
      ],
      "metadata": {
        "id": "ISpOTPHcOZj7"
      }
    },
    {
      "cell_type": "code",
      "source": [
        "import numpy as np\n",
        "\n",
        "class MultilayerPerceptron:\n",
        "    def __init__(self, input_size, hidden_size, output_size, learning_rate=0.1):\n",
        "        self.weights_input_hidden = np.random.randn(input_size, hidden_size)\n",
        "        self.bias_hidden = np.random.randn(hidden_size)\n",
        "        self.weights_hidden_output = np.random.randn(hidden_size, output_size)\n",
        "        self.bias_output = np.random.randn(output_size)\n",
        "        self.learning_rate = learning_rate\n",
        "\n",
        "    def activate(self, x):\n",
        "        return 1 / (1 + np.exp(-x))  # Сигмоидальная функция активации\n",
        "\n",
        "    def activate_derivative(self, x):\n",
        "        return x * (1 - x)  # Производная сигмоидальной функции активации\n",
        "\n",
        "    def forward(self, inputs):\n",
        "        # Прямое распространение входных данных через сеть\n",
        "        self.hidden_sum = np.dot(inputs, self.weights_input_hidden) + self.bias_hidden\n",
        "        self.hidden_output = self.activate(self.hidden_sum)\n",
        "        self.output_sum = np.dot(self.hidden_output, self.weights_hidden_output) + self.bias_output\n",
        "        self.output = self.activate(self.output_sum)\n",
        "        return self.output\n",
        "\n",
        "    def backward(self, inputs, target):\n",
        "        # Обратное распространение ошибки и коррекция весов\n",
        "        output_error = target - self.output\n",
        "        output_delta = output_error * self.activate_derivative(self.output)\n",
        "\n",
        "        hidden_error = np.dot(output_delta, self.weights_hidden_output.T)\n",
        "        hidden_delta = hidden_error * self.activate_derivative(self.hidden_output)\n",
        "\n",
        "        self.weights_hidden_output += self.learning_rate * np.dot(self.hidden_output.T, output_delta)\n",
        "        self.bias_output += self.learning_rate * np.sum(output_delta)\n",
        "        self.weights_input_hidden += self.learning_rate * np.dot(inputs.T, hidden_delta)\n",
        "        self.bias_hidden += self.learning_rate * np.sum(hidden_delta)\n",
        "\n",
        "# Пример использования\n",
        "if __name__ == \"__main__\":\n",
        "    # Создаем многослойный перцептрон\n",
        "    mlp = MultilayerPerceptron(input_size=3, hidden_size=3, output_size=1)\n",
        "\n",
        "    # Обучающие данные\n",
        "    training_inputs = np.array([[0, 0, 1], [0, 1, 1], [1, 0, 1], [1, 1, 1]])\n",
        "    labels = np.array([[0], [1], [1], [0]])  # Пример XOR-функции\n",
        "\n",
        "    # Обучение многослойного перцептрона\n",
        "    for epoch in range(10000):\n",
        "        for inputs, label in zip(training_inputs, labels):\n",
        "            mlp.forward(inputs.reshape(1, -1))\n",
        "            mlp.backward(inputs.reshape(1, -1), label.reshape(1, -1))\n",
        "\n",
        "    # Проверяем работу перцептрона\n",
        "    test_inputs = np.array([[0, 0, 1], [0, 1, 1], [1, 0, 1], [1, 1, 1], [1, 1, 0], [0, 1, 0]])\n",
        "    for inputs in test_inputs:\n",
        "        prediction = mlp.forward(inputs)\n",
        "        print(f\"Input: {inputs}, Predicted Output: {prediction}\")\n",
        "\n",
        "\n"
      ],
      "metadata": {
        "colab": {
          "base_uri": "https://localhost:8080/"
        },
        "id": "qJAq7LweO4wz",
        "outputId": "8926ab5b-ca52-409e-a19e-617857ad0247"
      },
      "execution_count": null,
      "outputs": [
        {
          "output_type": "stream",
          "name": "stdout",
          "text": [
            "Input: [0 0 1], Predicted Output: [0.04238093]\n",
            "Input: [0 1 1], Predicted Output: [0.95206261]\n",
            "Input: [1 0 1], Predicted Output: [0.49308665]\n",
            "Input: [1 1 1], Predicted Output: [0.4992775]\n",
            "Input: [1 1 0], Predicted Output: [0.51126575]\n",
            "Input: [0 1 0], Predicted Output: [0.98535427]\n"
          ]
        }
      ]
    },
    {
      "cell_type": "markdown",
      "source": [
        "Делаем нейронку из 1 нейрона и 2 входами, один это число(для обучения определенное, а потом рандомное), два это биас(смещение).\n",
        "Задача вычислить из градусов цельсия фарингейты\n",
        "ф-ла:\n",
        "F = C * 1.8 + 32  /  выход линейный, т.е что зашло в ф-ю активации, то и вышло"
      ],
      "metadata": {
        "id": "gCre2xBvgk86"
      }
    },
    {
      "cell_type": "code",
      "source": [
        "# x - градус цельсия, f - данные на выходе для обучения на готовых данных для сравнения с входными\n",
        "#model -\n",
        "x_celci = np.array([-40, -10, 0, 8, 15])\n",
        "f_faring = np.array([-40, 14, 32, 46, 59])\n",
        "\"\"\"это на выходе проверяется \"\"\"\n",
        "\n",
        "model = keras.Sequential() #sequential - функция кераса которая вызывает последовательную нейроную сеть\n",
        "model.add(Dense(units=1, input_shape=(1, ), activation='linear'))\n",
        "model.compile(loss='mean_squared_error', optimizer=keras.optimizers.Adam(0.9))\n",
        "\n",
        "#ниже можно описывать алгоритм обучения\n",
        "history = model.fit(x_celci, f_faring, epochs=500, verbose=0)\n",
        "\n",
        "pred = np.arange(20)\n",
        "print(pred)\n",
        "print(model.predict(pred)) #это уже новые входные данные которые перошли через нейронку и вышли результатом\n",
        "\n",
        "plt.plot(history.history['loss'])\n",
        "plt.grid(True)\n",
        "plt.show"
      ],
      "metadata": {
        "colab": {
          "base_uri": "https://localhost:8080/",
          "height": 982
        },
        "id": "M1wbM-ydfE_7",
        "outputId": "4cc1b04f-d275-4b98-b1d3-d84f206ecabc"
      },
      "execution_count": 10,
      "outputs": [
        {
          "output_type": "stream",
          "name": "stdout",
          "text": [
            "[ 0  1  2  3  4  5  6  7  8  9 10 11 12 13 14 15 16 17 18 19]\n",
            "1/1 [==============================] - 0s 50ms/step\n",
            "[[31.904295]\n",
            " [33.701385]\n",
            " [35.498478]\n",
            " [37.29557 ]\n",
            " [39.092663]\n",
            " [40.889755]\n",
            " [42.686848]\n",
            " [44.48394 ]\n",
            " [46.28103 ]\n",
            " [48.078125]\n",
            " [49.875214]\n",
            " [51.672306]\n",
            " [53.4694  ]\n",
            " [55.26649 ]\n",
            " [57.063583]\n",
            " [58.860672]\n",
            " [60.65777 ]\n",
            " [62.454857]\n",
            " [64.25195 ]\n",
            " [66.04904 ]]\n"
          ]
        },
        {
          "output_type": "execute_result",
          "data": {
            "text/plain": [
              "<function matplotlib.pyplot.show(close=None, block=None)>"
            ],
            "text/html": [
              "<div style=\"max-width:800px; border: 1px solid var(--colab-border-color);\"><style>\n",
              "      pre.function-repr-contents {\n",
              "        overflow-x: auto;\n",
              "        padding: 8px 12px;\n",
              "        max-height: 500px;\n",
              "      }\n",
              "\n",
              "      pre.function-repr-contents.function-repr-contents-collapsed {\n",
              "        cursor: pointer;\n",
              "        max-height: 100px;\n",
              "      }\n",
              "    </style>\n",
              "    <pre style=\"white-space: initial; background:\n",
              "         var(--colab-secondary-surface-color); padding: 8px 12px;\n",
              "         border-bottom: 1px solid var(--colab-border-color);\"><b>matplotlib.pyplot.show</b><br/>def show(*args, **kwargs)</pre><pre class=\"function-repr-contents function-repr-contents-collapsed\" style=\"\"><a class=\"filepath\" style=\"display:none\" href=\"#\">/usr/local/lib/python3.10/dist-packages/matplotlib/pyplot.py</a>Display all open figures.\n",
              "\n",
              "Parameters\n",
              "----------\n",
              "block : bool, optional\n",
              "    Whether to wait for all figures to be closed before returning.\n",
              "\n",
              "    If `True` block and run the GUI main loop until all figure windows\n",
              "    are closed.\n",
              "\n",
              "    If `False` ensure that all figure windows are displayed and return\n",
              "    immediately.  In this case, you are responsible for ensuring\n",
              "    that the event loop is running to have responsive figures.\n",
              "\n",
              "    Defaults to True in non-interactive mode and to False in interactive\n",
              "    mode (see `.pyplot.isinteractive`).\n",
              "\n",
              "See Also\n",
              "--------\n",
              "ion : Enable interactive mode, which shows / updates the figure after\n",
              "      every plotting command, so that calling ``show()`` is not necessary.\n",
              "ioff : Disable interactive mode.\n",
              "savefig : Save the figure to an image file instead of showing it on screen.\n",
              "\n",
              "Notes\n",
              "-----\n",
              "**Saving figures to file and showing a window at the same time**\n",
              "\n",
              "If you want an image file as well as a user interface window, use\n",
              "`.pyplot.savefig` before `.pyplot.show`. At the end of (a blocking)\n",
              "``show()`` the figure is closed and thus unregistered from pyplot. Calling\n",
              "`.pyplot.savefig` afterwards would save a new and thus empty figure. This\n",
              "limitation of command order does not apply if the show is non-blocking or\n",
              "if you keep a reference to the figure and use `.Figure.savefig`.\n",
              "\n",
              "**Auto-show in jupyter notebooks**\n",
              "\n",
              "The jupyter backends (activated via ``%matplotlib inline``,\n",
              "``%matplotlib notebook``, or ``%matplotlib widget``), call ``show()`` at\n",
              "the end of every cell by default. Thus, you usually don&#x27;t have to call it\n",
              "explicitly there.</pre>\n",
              "      <script>\n",
              "      if (google.colab.kernel.accessAllowed && google.colab.files && google.colab.files.view) {\n",
              "        for (const element of document.querySelectorAll('.filepath')) {\n",
              "          element.style.display = 'block'\n",
              "          element.onclick = (event) => {\n",
              "            event.preventDefault();\n",
              "            event.stopPropagation();\n",
              "            google.colab.files.view(element.textContent, 401);\n",
              "          };\n",
              "        }\n",
              "      }\n",
              "      for (const element of document.querySelectorAll('.function-repr-contents')) {\n",
              "        element.onclick = (event) => {\n",
              "          event.preventDefault();\n",
              "          event.stopPropagation();\n",
              "          element.classList.toggle('function-repr-contents-collapsed');\n",
              "        };\n",
              "      }\n",
              "      </script>\n",
              "      </div>"
            ]
          },
          "metadata": {},
          "execution_count": 10
        },
        {
          "output_type": "display_data",
          "data": {
            "text/plain": [
              "<Figure size 640x480 with 1 Axes>"
            ],
            "image/png": "[encoded data removed]"
          },
          "metadata": {}
        }
      ]
    },
    {
      "cell_type": "markdown",
      "source": [
        "Этап второй, вариант"
      ],
      "metadata": {
        "id": "7rnsKClfwlJO"
      }
    },
    {
      "cell_type": "code",
      "source": [
        "pip install scapy"
      ],
      "metadata": {
        "colab": {
          "base_uri": "https://localhost:8080/"
        },
        "id": "U2fKrxQh-SpJ",
        "outputId": "8bff8a31-76cf-4bb5-87e2-2ccfa1f83db4"
      },
      "execution_count": 12,
      "outputs": [
        {
          "output_type": "stream",
          "name": "stdout",
          "text": [
            "Collecting scapy\n",
            "  Downloading scapy-2.5.0.tar.gz (1.3 MB)\n",
            "\u001b[2K     \u001b[90m━━━━━━━━━━━━━━━━━━━━━━━━━━━━━━━━━━━━━━━━\u001b[0m \u001b[32m1.3/1.3 MB\u001b[0m \u001b[31m7.9 MB/s\u001b[0m eta \u001b[36m0:00:00\u001b[0m\n",
            "\u001b[?25h  Preparing metadata (setup.py) ... \u001b[?25l\u001b[?25hdone\n",
            "Building wheels for collected packages: scapy\n",
            "  Building wheel for scapy (setup.py) ... \u001b[?25l\u001b[?25hdone\n",
            "  Created wheel for scapy: filename=scapy-2.5.0-py2.py3-none-any.whl size=1444328 sha256=4adae2038735af9e7f0b2edaaef4f1ac8595866223df617b2df7440705983dbe\n",
            "  Stored in directory: /root/.cache/pip/wheels/82/b7/03/8344d8cf6695624746311bc0d389e9d05535ca83c35f90241d\n",
            "Successfully built scapy\n",
            "Installing collected packages: scapy\n",
            "Successfully installed scapy-2.5.0\n"
          ]
        }
      ]
    },
    {
      "cell_type": "code",
      "source": [
        "from scapy.all import *\n",
        "\n",
        "def packet_callback(packet):\n",
        "    # Функция обратного вызова, вызываемая при получении каждого пакета\n",
        "    if IP in packet:\n",
        "        # Если это IP-пакет\n",
        "        ip_src = packet[IP].src\n",
        "        ip_dst = packet[IP].dst\n",
        "        proto = packet[IP].proto\n",
        "        if TCP in packet:\n",
        "            # Если это TCP-пакет\n",
        "            sport = packet[TCP].sport\n",
        "            dport = packet[TCP].dport\n",
        "            flags = packet[TCP].flags\n",
        "            print(f\"0,tcp,{ip_src},{ip_dst},{sport},{dport},{flags}\")\n",
        "        elif UDP in packet:\n",
        "            # Если это UDP-пакет\n",
        "            sport = packet[UDP].sport\n",
        "            dport = packet[UDP].dport\n",
        "            print(f\"0,udp,{ip_src},{ip_dst},{sport},{dport}\")\n",
        "        elif ICMP in packet:\n",
        "            # Если это ICMP-пакет\n",
        "            type = packet[ICMP].type\n",
        "            code = packet[ICMP].code\n",
        "            print(f\"0,icmp,{ip_src},{ip_dst},{type},{code}\")\n",
        "        else:\n",
        "            # Если это другой тип пакета\n",
        "            print(\"0,other\")\n",
        "\n",
        "if __name__ == \"__main__\":\n",
        "    # Запускаем сниффер, который будет прослушивать сетевой трафик\n",
        "    sniff(prn=packet_callback, store=0)\n"
      ],
      "metadata": {
        "colab": {
          "base_uri": "https://localhost:8080/"
        },
        "id": "deoZpDWSwkqf",
        "outputId": "57534482-5d84-4dfc-d7bf-763c4d156768"
      },
      "execution_count": 15,
      "outputs": [
        {
          "output_type": "stream",
          "name": "stdout",
          "text": [
            "0,tcp,172.28.0.12,172.28.0.1,8080,40274,PA\n",
            "0,tcp,172.28.0.1,172.28.0.12,40274,8080,A\n",
            "0,tcp,172.28.0.1,172.28.0.12,40274,8080,FA\n",
            "0,tcp,172.28.0.12,172.28.0.1,8080,40274,FA\n",
            "0,tcp,172.28.0.1,172.28.0.12,40274,8080,A\n",
            "0,tcp,172.28.0.1,172.28.0.12,46750,8080,PA\n",
            "0,tcp,172.28.0.12,172.28.0.1,8080,46750,A\n",
            "0,tcp,172.28.0.12,172.28.0.1,8080,46750,PA\n",
            "0,tcp,172.28.0.1,172.28.0.12,46750,8080,A\n",
            "0,tcp,172.28.0.1,172.28.0.12,46750,8080,PA\n",
            "0,tcp,172.28.0.12,172.28.0.1,8080,46750,A\n",
            "0,tcp,172.28.0.1,172.28.0.12,39996,8080,PA\n",
            "0,tcp,172.28.0.1,172.28.0.12,39996,8080,PA\n",
            "0,tcp,172.28.0.12,172.28.0.1,8080,39996,A\n",
            "0,tcp,172.28.0.12,172.28.0.1,8080,39996,PA\n",
            "0,tcp,172.28.0.1,172.28.0.12,39996,8080,A\n",
            "0,tcp,172.28.0.12,172.28.0.1,8080,32854,PA\n",
            "0,tcp,172.28.0.1,172.28.0.12,32854,8080,A\n",
            "0,tcp,172.28.0.1,172.28.0.12,32854,8080,PA\n",
            "0,tcp,172.28.0.12,172.28.0.1,8080,32854,A\n",
            "0,tcp,172.28.0.12,172.28.0.1,8080,32854,PA\n",
            "0,tcp,172.28.0.1,172.28.0.12,32854,8080,A\n",
            "0,tcp,172.28.0.1,172.28.0.12,32854,8080,PA\n",
            "0,tcp,172.28.0.1,172.28.0.12,32854,8080,PA\n",
            "0,tcp,172.28.0.12,172.28.0.1,8080,32854,A\n",
            "0,tcp,172.28.0.12,172.28.0.1,8080,32854,PA\n",
            "0,tcp,172.28.0.12,172.28.0.1,8080,46750,PA\n",
            "0,tcp,172.28.0.1,172.28.0.12,46750,8080,A\n",
            "0,tcp,172.28.0.1,172.28.0.12,46750,8080,FA\n",
            "0,tcp,172.28.0.12,172.28.0.1,8080,46750,FA\n",
            "0,tcp,172.28.0.1,172.28.0.12,46750,8080,A\n",
            "0,tcp,172.28.0.1,172.28.0.12,32854,8080,A\n",
            "0,tcp,172.28.0.1,172.28.0.12,32854,8080,PA\n",
            "0,tcp,172.28.0.12,172.28.0.1,8080,32854,A\n",
            "0,tcp,172.28.0.1,172.28.0.12,39996,8080,PA\n",
            "0,tcp,172.28.0.12,172.28.0.1,8080,39996,A\n",
            "0,tcp,172.28.0.1,172.28.0.12,47366,8080,S\n",
            "0,tcp,172.28.0.12,172.28.0.1,8080,47366,SA\n",
            "0,tcp,172.28.0.1,172.28.0.12,47366,8080,A\n",
            "0,tcp,172.28.0.1,172.28.0.12,47366,8080,PA\n",
            "0,tcp,172.28.0.12,172.28.0.1,8080,47366,A\n",
            "0,tcp,172.28.0.12,172.28.0.1,8080,47366,PA\n",
            "0,tcp,172.28.0.1,172.28.0.12,47366,8080,A\n",
            "0,tcp,172.28.0.1,172.28.0.12,47366,8080,PA\n",
            "0,tcp,172.28.0.1,172.28.0.12,47366,8080,PA\n",
            "0,tcp,172.28.0.12,172.28.0.1,8080,47366,A\n",
            "0,tcp,172.28.0.12,172.28.0.1,8080,47366,PA\n",
            "0,tcp,172.28.0.1,172.28.0.12,47366,8080,A\n",
            "0,tcp,172.28.0.1,172.28.0.12,47366,8080,PA\n",
            "0,tcp,172.28.0.12,172.28.0.1,8080,47366,PA\n",
            "0,tcp,172.28.0.1,172.28.0.12,47366,8080,A\n",
            "0,tcp,172.28.0.12,172.28.0.1,8080,47366,FA\n",
            "0,tcp,172.28.0.1,172.28.0.12,47366,8080,FA\n",
            "0,tcp,172.28.0.12,172.28.0.1,8080,47366,A\n",
            "0,tcp,172.28.0.1,172.28.0.12,47382,8080,S\n",
            "0,tcp,172.28.0.12,172.28.0.1,8080,47382,SA\n",
            "0,tcp,172.28.0.1,172.28.0.12,47382,8080,A\n",
            "0,tcp,172.28.0.1,172.28.0.12,47382,8080,PA\n",
            "0,tcp,172.28.0.12,172.28.0.1,8080,47382,A\n",
            "0,tcp,172.28.0.12,172.28.0.1,8080,47382,PA\n",
            "0,tcp,172.28.0.1,172.28.0.12,47382,8080,A\n",
            "0,tcp,172.28.0.12,172.28.0.1,8080,39996,PA\n",
            "0,tcp,172.28.0.1,172.28.0.12,39996,8080,A\n",
            "0,tcp,172.28.0.1,172.28.0.12,39996,8080,PA\n",
            "0,tcp,172.28.0.12,172.28.0.1,8080,39996,A\n",
            "0,tcp,172.28.0.12,172.28.0.1,8080,39996,PA\n",
            "0,tcp,172.28.0.1,172.28.0.12,39996,8080,A\n",
            "0,tcp,172.28.0.1,172.28.0.12,39996,8080,PA\n",
            "0,tcp,172.28.0.12,172.28.0.1,8080,39996,A\n",
            "0,tcp,172.28.0.1,172.28.0.12,47382,8080,PA\n",
            "0,tcp,172.28.0.12,172.28.0.1,8080,47382,PA\n",
            "0,tcp,172.28.0.1,172.28.0.12,47382,8080,A\n",
            "0,tcp,172.28.0.1,172.28.0.12,47382,8080,PA\n",
            "0,tcp,172.28.0.12,172.28.0.1,8080,47382,PA\n",
            "0,tcp,172.28.0.1,172.28.0.12,47382,8080,A\n",
            "0,tcp,172.28.0.1,172.28.0.12,47382,8080,PA\n",
            "0,tcp,172.28.0.12,172.28.0.1,8080,47382,PA\n",
            "0,tcp,172.28.0.1,172.28.0.12,47382,8080,A\n",
            "0,tcp,172.28.0.1,172.28.0.12,47382,8080,PA\n",
            "0,tcp,172.28.0.12,172.28.0.1,8080,47382,PA\n",
            "0,tcp,172.28.0.1,172.28.0.12,47382,8080,A\n",
            "0,tcp,172.28.0.1,172.28.0.12,47382,8080,PA\n",
            "0,tcp,172.28.0.12,172.28.0.1,8080,47382,PA\n",
            "0,tcp,172.28.0.1,172.28.0.12,47382,8080,A\n",
            "0,tcp,172.28.0.1,172.28.0.12,47382,8080,PA\n",
            "0,tcp,172.28.0.12,172.28.0.1,8080,47382,PA\n",
            "0,tcp,172.28.0.1,172.28.0.12,47382,8080,A\n",
            "0,tcp,172.28.0.1,172.28.0.12,47382,8080,PA\n",
            "0,tcp,172.28.0.1,172.28.0.12,47382,8080,PA\n",
            "0,tcp,172.28.0.12,172.28.0.1,8080,47382,A\n",
            "0,tcp,172.28.0.12,172.28.0.1,8080,32854,PA\n",
            "0,tcp,172.28.0.1,172.28.0.12,32854,8080,A\n",
            "0,tcp,172.28.0.12,172.28.0.1,8080,47382,PA\n",
            "0,tcp,172.28.0.1,172.28.0.12,47382,8080,A\n",
            "0,tcp,172.28.0.1,172.28.0.12,47382,8080,PA\n",
            "0,tcp,172.28.0.12,172.28.0.1,8080,47382,PA\n",
            "0,tcp,172.28.0.1,172.28.0.12,47382,8080,A\n",
            "0,tcp,172.28.0.1,172.28.0.12,47382,8080,PA\n",
            "0,tcp,172.28.0.12,172.28.0.1,8080,47382,PA\n",
            "0,tcp,172.28.0.1,172.28.0.12,47382,8080,A\n",
            "0,tcp,172.28.0.1,172.28.0.12,47382,8080,PA\n",
            "0,tcp,172.28.0.12,172.28.0.1,8080,47382,A\n",
            "0,tcp,172.28.0.1,172.28.0.12,32854,8080,PA\n",
            "0,tcp,172.28.0.12,172.28.0.1,8080,32854,A\n",
            "0,tcp,172.28.0.12,172.28.0.1,8080,32854,PA\n",
            "0,tcp,172.28.0.1,172.28.0.12,32854,8080,A\n",
            "0,tcp,172.28.0.1,172.28.0.12,32854,8080,PA\n"
          ]
        }
      ]
    },
    {
      "cell_type": "code",
      "source": [],
      "metadata": {
        "id": "-62da5qK_sG5"
      },
      "execution_count": null,
      "outputs": []
    }
  ]
}